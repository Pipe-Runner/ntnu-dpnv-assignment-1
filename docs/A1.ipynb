{
 "cells": [
  {
   "cell_type": "markdown",
   "metadata": {},
   "source": [
    "# Assignment A1 - Data import"
   ]
  },
  {
   "cell_type": "markdown",
   "metadata": {},
   "source": [
    "Course \"Data processing and Visualization\", IE500417, NTNU. Fall 2022\n",
    "\n",
    "https://www.ntnu.edu/studies/courses/IE500417"
   ]
  },
  {
   "cell_type": "markdown",
   "metadata": {},
   "source": [
    "**Note: plagiarism is strictly forbidden! You should never copy any source code from other students. If you use any code written by others (except the standards libraries: NumPy, SciPy, Pandas, etc), provide a reference.**\n",
    "\n",
    "**If the teachers see that your work is mostly copy+paste from online code snippets, the grade can be reduced.**\n",
    "\n",
    "**If a case of plagiarism is detected, it will be reported to the administration.**"
   ]
  },
  {
   "cell_type": "markdown",
   "metadata": {},
   "source": [
    "## Task description"
   ]
  },
  {
   "cell_type": "markdown",
   "metadata": {},
   "source": [
    "This assignment consists of several parts:\n",
    "1. Set up development environment on your computer. It includes installation and setup of tools which will be necessary in other course assignments. \n",
    "2. Load data sets of several popular data formats: CSV, JSON, XML\n",
    "3. Do simple checks and analysis of loaded data."
   ]
  },
  {
   "cell_type": "markdown",
   "metadata": {},
   "source": [
    "## Submission details"
   ]
  },
  {
   "cell_type": "markdown",
   "metadata": {},
   "source": [
    "The assignment must be handed in on Blackboard. The following must be handed in:\n",
    "1. Report in HTML or PDF format describing the results of this assignment. Preferably, it is generated from the Jupyter notebook you used (Hint: In Jupyter: File > Download as > HTML). Alternatively (if you use plain Python or other tools), prepare a readable report that contains figures and source code snippets necessary to understand your work.\n",
    "2. Source code that you used to generate the results. This could be the the Jupyter notebook file, python source files, Matlab files, etc.\n",
    "\n",
    "Deadlines and grading information on Blackboard."
   ]
  },
  {
   "cell_type": "markdown",
   "metadata": {},
   "source": [
    "---\n",
    "## Detailed steps: Part 1\n",
    "---"
   ]
  },
  {
   "cell_type": "markdown",
   "metadata": {},
   "source": [
    "For this part you don't have to hand in anything. Without this part done you won't be able to do the rest of assignments.\n",
    "The following tools should be set up:"
   ]
  },
  {
   "cell_type": "markdown",
   "metadata": {},
   "source": [
    "### Anaconda \n",
    "Anaconda is a Python Data Science Toolset, including Pandas, NumPy and SciPy.\n",
    "https://www.anaconda.com/products/individual#download-section .\n",
    " - Take Python 3.x version (not 2.x). Preferably 64-bit version (if your computer supports it)\n",
    " - Suggested to “Add Anaconda to System PATH” during installation\n",
    " - This will install Python 3.8 with all the packages "
   ]
  },
  {
   "cell_type": "markdown",
   "metadata": {},
   "source": [
    "### Jupyter notebook\n",
    "It is an interactive web-based editor that allows you to write and test python code mixed with markup to format nice reports.\n",
    "See http://jupyter.org/\n",
    "\n",
    "You don’t have to install anything extra. Jupyter notebook is part of the Anaconda package.\n",
    "Open the console (on Windows: open Anaconda Prompt) and run command\n",
    "\n",
    "`jupyter notebook`\n",
    "\n",
    "If you get the notebook started and a page opened in your browser, it is set up properly.\n",
    "\n",
    "Jupyter considers one directory as its *root*.  is advised that you create one folder where you will put all your experimentation files and/or assignments. See here how to tell Jupyter to use your experiment folder as root: \n",
    "https://stackoverflow.com/questions/35254852/how-to-change-the-jupyter-start-up-folder \n",
    "\n",
    "To test that it is working, try opening the jupyter notebook (.ipynb file) provided with this assignment."
   ]
  },
  {
   "cell_type": "markdown",
   "metadata": {},
   "source": [
    "### WebStorm (Optional) \n",
    "\n",
    "WebStorm is a convenient editor (IDE) for JavaScript: https://www.jetbrains.com/webstorm/\n",
    "Again, this tool is not necessary, strictly speaking. But if you plan that the resulting project may be a web-site using Javascript visualization libraries (D3, Google Charts, or others), WebStorm is a very handy editor for web page creation.\n",
    "\n",
    "* Download it at https://www.jetbrains.com/webstorm/download/\n",
    "* Apply for academic student license to all JetBrains tools (WebStorm, PyCharm, etc.):\n",
    "https://www.jetbrains.com/shop/eform/students , use your @[stud.]ntnu.no address\n",
    "* When installing, activate using JetBrains account\n",
    "\n",
    "You can use the editor for any HTML + Javascript + CSS projects. In this course it may be useful when you work with the interactive visualizations."
   ]
  },
  {
   "cell_type": "markdown",
   "metadata": {},
   "source": [
    "### PyCharm (optional)\n",
    "PyCharm is an editor for Python: https://www.jetbrains.com/pycharm/download/\n",
    "It may be sufficient with Jupyter notebook. But it is good to have a proper Python editot ready, in case you need to explore any external code or debug your own.\n",
    "\n",
    "* Download it at https://www.jetbrains.com/pycharm/download\n",
    "* Take the Professional edition\n",
    "* When installing, activate using JetBrains account"
   ]
  },
  {
   "cell_type": "markdown",
   "metadata": {},
   "source": [
    "---\n",
    "## Detailed steps: Part 2\n",
    "---"
   ]
  },
  {
   "cell_type": "markdown",
   "metadata": {},
   "source": [
    "In this part you will practice to load data from popular formats into a Pandas DataFrame structure. [Pandas](https://pandas.pydata.org/) is a Python library for data processing: . It provides convenient data structures:\n",
    "* [DataFrame](https://pandas.pydata.org/pandas-docs/stable/generated/pandas.DataFrame.html) - represents a table of data. You can select, process, fitler, sort etc rows and columns easily.\n",
    "* [Series](https://pandas.pydata.org/pandas-docs/stable/generated/pandas.Series.html) - represents one column of data.\n",
    "\n",
    "In addition to loading data, some of the exercises here include basic data filtering and querying commands.\n",
    "\n",
    "**You can use the Jupyter notebook template (.ipynb file, provided with this assignment) as a starting point, fill in your code in it and hand in the resulting notebook.**\n",
    "\n",
    "Jupyter notebook is part of the Anaconda package. Open the console (on Windows: open Anaconda Prompt) and run command \n",
    "\n",
    "```jupyter notebook```\n",
    "\n",
    "If you are not familiar with Jupyter, read [this tutorial](https://www.packtpub.com/books/content/getting-started-jupyter-notebook-part-1) to get started.\n",
    "\n",
    "Copy the CSV, XML and other files attached to this assignment to the same folder where you .ipynb notebook is.\n",
    "\n",
    "Use the same notebook for all the steps in this assignment."
   ]
  },
  {
   "cell_type": "markdown",
   "metadata": {},
   "source": [
    "\n",
    "### Part 2.1: Import data from CSV file"
   ]
  },
  {
   "cell_type": "markdown",
   "metadata": {},
   "source": [
    "First you must import the Pandas library. It tells the Python interpreter, what functions are available in the Pandas. to make the writing shorter, one typically loads the pandas library with an alias pd. (The following block is python source code.)"
   ]
  },
  {
   "cell_type": "code",
   "execution_count": null,
   "metadata": {},
   "outputs": [],
   "source": [
    "# import all functions from Pandas library, they will be accessible through alias pd\n",
    "import pandas as pd; \n",
    "\n",
    "# for example the read_csv function will be accessible as pd.read_csv(...)"
   ]
  },
  {
   "cell_type": "markdown",
   "metadata": {},
   "source": [
    "Now when the Pandas library is imported, load data from the CSV file into a Python DataFrame object called `houses`. Use the .CSV file attached to this assignment: real_estate.csv .\n",
    "(Data source: https://support.spatialkey.com/spatialkey-sample-csv-data/ )\n",
    "It contains data about sold real estate (apartment, houses, etc)."
   ]
  },
  {
   "cell_type": "markdown",
   "metadata": {},
   "source": [
    "**Pay attention to the texts below. Check out all the blocks where you have to insert code!**"
   ]
  },
  {
   "cell_type": "code",
   "execution_count": null,
   "metadata": {},
   "outputs": [],
   "source": [
    "# Write code to load the CSV data into a Pandas Dataframe\n",
    "houses = ... "
   ]
  },
  {
   "cell_type": "markdown",
   "metadata": {},
   "source": [
    "Print the first 5 rows of the dataframe."
   ]
  },
  {
   "cell_type": "code",
   "execution_count": null,
   "metadata": {},
   "outputs": [],
   "source": [
    "# Your code here"
   ]
  },
  {
   "cell_type": "markdown",
   "metadata": {},
   "source": [
    "Print the last 5 rows of the dataframe."
   ]
  },
  {
   "cell_type": "code",
   "execution_count": null,
   "metadata": {},
   "outputs": [],
   "source": [
    "# Your code here"
   ]
  },
  {
   "cell_type": "markdown",
   "metadata": {},
   "source": [
    "### Part 2.2: Import data from JSON file"
   ]
  },
  {
   "cell_type": "markdown",
   "metadata": {},
   "source": [
    "In a very similar fashion you can load data from a JSON file into a DataFrame. The nice thing with DataFrame - once you have loaded data into it (no matter what the source file format is), you can use the same processing methods.\n",
    "\n",
    "Your task: load the data from file `colors.json` into a DataFrame called `colors`. "
   ]
  },
  {
   "cell_type": "code",
   "execution_count": null,
   "metadata": {},
   "outputs": [],
   "source": [
    "# Your code here\n",
    "colors = ..."
   ]
  },
  {
   "cell_type": "markdown",
   "metadata": {},
   "source": [
    "Now we print contents of the loaded data:"
   ]
  },
  {
   "cell_type": "code",
   "execution_count": null,
   "metadata": {},
   "outputs": [],
   "source": [
    "colors"
   ]
  },
  {
   "cell_type": "markdown",
   "metadata": {},
   "source": [
    "### Part 2.3: Import data from SQL"
   ]
  },
  {
   "cell_type": "markdown",
   "metadata": {},
   "source": [
    "Python Pandas allows you to read data from an SQL database into a DataFrame. See function \n",
    "[pandas.read_sql_query()](https://pandas.pydata.org/pandas-docs/stable/generated/pandas.read_sql_query.html). \n",
    "\n",
    "In this assignment we will use SQLite database, which is a very simple database format, storing everything in a single file. The pandas.read_sql_query() method is very flexible - it takes an SQL query and a connection to SQL interface for any database supporting it. It is not limited to SQLite, you can query MySQL, Oracle and other databases in the same manner. Only the creation of the connection will differ.\n",
    "\n",
    "Hint: A good (but rather long) tutorial is [here](https://www.dataquest.io/blog/python-pandas-databases/). Search for text \"read_sql_query\" on the page, you will find a short source code example. \n",
    "\n",
    "Your task: load data from the attached file `chinook.sqlite3`. Use the following query to select first five customers, load them into a DataFrame, call it `first_customers`:\n",
    "```SELECT firstname, lastname, address FROM customers LIMIT 5;```"
   ]
  },
  {
   "cell_type": "code",
   "execution_count": null,
   "metadata": {},
   "outputs": [],
   "source": [
    "# Your code here\n",
    "first_customers = ..."
   ]
  },
  {
   "cell_type": "markdown",
   "metadata": {},
   "source": [
    "Now we print the results:"
   ]
  },
  {
   "cell_type": "code",
   "execution_count": null,
   "metadata": {},
   "outputs": [],
   "source": [
    "first_customers"
   ]
  },
  {
   "cell_type": "markdown",
   "metadata": {},
   "source": [
    "### Part 2.4: Import data from XML file"
   ]
  },
  {
   "cell_type": "markdown",
   "metadata": {},
   "source": [
    "This part can be more difficult than loading a CSV. The reason: there is no standard XML reader in Pandas. You will have to implement it yourself. Hint: Google \"Pandas DataFrame load XML\".\n",
    "\n",
    "**Your task**: load data from attached file `books.xml`, into variable called `books`.\n",
    "\n",
    "Hint: you may want to [read the file content into a string variable](https://prefetch.net/blog/index.php/2012/01/30/reading-a-file-into-a-python-string/) first using open() and read() functions."
   ]
  },
  {
   "cell_type": "code",
   "execution_count": null,
   "metadata": {},
   "outputs": [],
   "source": [
    "# Your code here\n",
    "books = ..."
   ]
  },
  {
   "cell_type": "markdown",
   "metadata": {},
   "source": [
    "## Part 3: Quick data inspection"
   ]
  },
  {
   "cell_type": "markdown",
   "metadata": {},
   "source": [
    "In this part you do practice simple processing of the loaded data. Python and Pandas is a very rich toolset, here you get just a glimpse of it."
   ]
  },
  {
   "cell_type": "markdown",
   "metadata": {},
   "source": [
    "In this part, all tasks are related to the `house` data that you loaded from the CSV file in Part 2. If you are wondering about what methods to use, see [Hints](#Hints) section."
   ]
  },
  {
   "cell_type": "markdown",
   "metadata": {},
   "source": [
    "**Task for you**: Select number of rows in the data set, store it in variable `csv_num_rows`."
   ]
  },
  {
   "cell_type": "code",
   "execution_count": null,
   "metadata": {},
   "outputs": [],
   "source": [
    "# Your code here\n",
    "csv_num_rows = ...\n",
    "print(\"Number of rows in the CSV file: %i\" % csv_num_rows)"
   ]
  },
  {
   "cell_type": "markdown",
   "metadata": {},
   "source": [
    "You can select one column of the DataFrame, it will be a Pandas Series object. For example, to select Zip code column:"
   ]
  },
  {
   "cell_type": "code",
   "execution_count": null,
   "metadata": {},
   "outputs": [],
   "source": [
    "zipcode = houses[\"zip\"]"
   ]
  },
  {
   "cell_type": "markdown",
   "metadata": {},
   "source": [
    "**Task for you**: Now select the column \"price\" into a separate variable called `prices`."
   ]
  },
  {
   "cell_type": "code",
   "execution_count": null,
   "metadata": {},
   "outputs": [],
   "source": [
    "# Your code here\n",
    "prices = ..."
   ]
  },
  {
   "cell_type": "markdown",
   "metadata": {},
   "source": [
    "To validate that you are doing correctly, we can use some tests. We know that the 10th price in the file is 98937 (one can simply open the CSV file in a text editor to verify that). Indexing in python starts at zero. It means that prices[9] should be 98937. If you get error after executing the next block of code, something is wrong in your program. There are many possible errors. Therefore before testing the real value, we check if `prices` is a list containing at least 10 values. P.S. The assert statement means \"check if this condition is true. If it isn't raise an error\"."
   ]
  },
  {
   "cell_type": "code",
   "execution_count": null,
   "metadata": {},
   "outputs": [],
   "source": [
    "assert type(prices) == pd.core.series.Series\n",
    "assert len(prices) >= 10 \n",
    "assert prices[9] == 98937"
   ]
  },
  {
   "cell_type": "markdown",
   "metadata": {},
   "source": [
    "Accessing specific rows and items in a DataFrame by providing an index or a range of indices is a topic in itself. We suggest to read a tutorial on it, for example, the [official Pandas documentation](https://pandas.pydata.org/pandas-docs/stable/indexing.html)."
   ]
  },
  {
   "cell_type": "markdown",
   "metadata": {},
   "source": [
    "**Task for you**: Calculate mean and standard deviation for column \"price\", store it in variables `price_mean` and `price_std` respectively."
   ]
  },
  {
   "cell_type": "code",
   "execution_count": null,
   "metadata": {},
   "outputs": [],
   "source": [
    "# Your code here\n",
    "price_mean = ...\n",
    "price_std = ..."
   ]
  },
  {
   "cell_type": "markdown",
   "metadata": {},
   "source": [
    "Pandas DataFrame and Series classes has a handy method `describe()`. We can use it to check whether our calculated mean value is correct:"
   ]
  },
  {
   "cell_type": "code",
   "execution_count": null,
   "metadata": {},
   "outputs": [],
   "source": [
    "prices.describe()"
   ]
  },
  {
   "cell_type": "markdown",
   "metadata": {},
   "source": [
    "By doing \"their homework\" the teachers found out that the mean value should be 234144.263959. We make a test to see if your value is the same.\n",
    "\n",
    "There can be different weird behaviour with number rounding. Therefore, one general hint: never compare floating point numbers on exact values. Instead, you can either round them and compare, or convert them to a string and then compare. In this case, we check if the mean price rounded to integer is 234144."
   ]
  },
  {
   "cell_type": "code",
   "execution_count": null,
   "metadata": {},
   "outputs": [],
   "source": [
    "assert round(price_mean) == 234144"
   ]
  },
  {
   "cell_type": "markdown",
   "metadata": {},
   "source": [
    "Pandas DataFrame has very rich selection interface. For example, you can easily select all rows, where price equals to 106852. Or all rows where price > 800000. The syntax is a bit weird, just get used to it. :) \n",
    "First we create a filter. It will be a list containing True and False values. The i-th value will be True, if the i–th row satisfies the condition. Then we apply that filter to the dataframe and select only the necessary rows: those having True value in the filter. "
   ]
  },
  {
   "cell_type": "code",
   "execution_count": null,
   "metadata": {},
   "outputs": [],
   "source": [
    "# Create a filter - check which rows have price >= 800000\n",
    "expensive_filter = (houses[\"price\"] >= 800000)"
   ]
  },
  {
   "cell_type": "code",
   "execution_count": null,
   "metadata": {},
   "outputs": [],
   "source": [
    "# Now select only those rows in houses DataFrame which satisfiy the filter condition\n",
    "expensive_houses = houses[expensive_filter]"
   ]
  },
  {
   "cell_type": "markdown",
   "metadata": {},
   "source": [
    "Now let's print the table showing the expensive houses"
   ]
  },
  {
   "cell_type": "code",
   "execution_count": null,
   "metadata": {},
   "outputs": [],
   "source": [
    "expensive_houses"
   ]
  },
  {
   "cell_type": "markdown",
   "metadata": {},
   "source": [
    "You can combine the filter and row selection in a single line by putting the filter directly inside the dataframe [] selector:"
   ]
  },
  {
   "cell_type": "code",
   "execution_count": null,
   "metadata": {},
   "outputs": [],
   "source": [
    "expensive_houses = houses[houses[\"price\"] >= 800000]"
   ]
  },
  {
   "cell_type": "markdown",
   "metadata": {},
   "source": [
    "**Task for you**: Now that you know how to get the statistics (mean, std), how to filter rows and select one column of a DataFrame, do the following:\n",
    "* Find maximum price in the whole data set\n",
    "* Find the most expensive house (the one having maximum price)\n",
    "* Find how many square feet it has and store it in variable `most_expensive_area`"
   ]
  },
  {
   "cell_type": "code",
   "execution_count": null,
   "metadata": {},
   "outputs": [],
   "source": [
    "# Your code here\n",
    "# ...\n",
    "most_expensive_area = ..."
   ]
  },
  {
   "cell_type": "markdown",
   "metadata": {},
   "source": [
    "Now we test if the value is correct.\n",
    "Hint: if your result of selection is one cell in Pandas Series, not a number, you can use the .item() method to get the first cell in the Series object.\n",
    "For example, if you have `area` object of type series, use \n",
    "\n",
    "```most_expensive_area = area.item() ```\n",
    "\n",
    "to get it as a numeric value."
   ]
  },
  {
   "cell_type": "code",
   "execution_count": null,
   "metadata": {},
   "outputs": [],
   "source": [
    "assert most_expensive_area == 4400"
   ]
  },
  {
   "cell_type": "markdown",
   "metadata": {},
   "source": [
    "You can also do manipulations with all the values in the whole column. Or do an operation on two columns. For example, you can calculate price per square feet and assign it to a new column in the DataFrame:"
   ]
  },
  {
   "cell_type": "code",
   "execution_count": null,
   "metadata": {},
   "outputs": [],
   "source": [
    "houses[\"sqft_price\"] = houses[\"price\"] / houses[\"sq__ft\"]"
   ]
  },
  {
   "cell_type": "markdown",
   "metadata": {},
   "source": [
    "**Task for you**: find the house having the cheapest square meter price. Assign it to variable `cheapest_house`. The resulting variable should be a DataFrame consisting of a single row. Hint: use the selection/filtering techniques described above."
   ]
  },
  {
   "cell_type": "code",
   "execution_count": null,
   "metadata": {},
   "outputs": [],
   "source": [
    "# Your code here\n",
    "# ...\n",
    "cheapest_house = ..."
   ]
  },
  {
   "cell_type": "markdown",
   "metadata": {},
   "source": [
    "To verify that you found the right house, you can run this code block."
   ]
  },
  {
   "cell_type": "code",
   "execution_count": null,
   "metadata": {},
   "outputs": [],
   "source": [
    "assert type(cheapest_house) == pd.core.frame.DataFrame\n",
    "assert len(cheapest_house) == 1\n",
    "assert cheapest_house[\"price\"].item() == 2000 \n",
    "assert cheapest_house[\"sq__ft\"].item() == 5822"
   ]
  },
  {
   "cell_type": "markdown",
   "metadata": {},
   "source": [
    "We can use function `pandas.Series.unique()` to get a list of values that a particular series (DataFrame column) takes. Let's take a look what values does the \"type\" column take:"
   ]
  },
  {
   "cell_type": "code",
   "execution_count": null,
   "metadata": {},
   "outputs": [],
   "source": [
    "houses[\"type\"].unique()"
   ]
  },
  {
   "cell_type": "markdown",
   "metadata": {},
   "source": [
    "**Task for you**: Find out how many Multi-family houses had less than 3 bathrooms. Store that number in variable `num_few_br_multif`. P.S. by \"find out\" we mean \"write code that finds out\". If you find the value by just looking at the file content, it does not count :)."
   ]
  },
  {
   "cell_type": "code",
   "execution_count": null,
   "metadata": {},
   "outputs": [],
   "source": [
    "# Your code here\n",
    "num_few_br_multif = ..."
   ]
  },
  {
   "cell_type": "markdown",
   "metadata": {},
   "source": [
    "**Task for you**: Convert area from square feet to square meters, add it as a column named `area_m2` to the same DataFrame object `houses`."
   ]
  },
  {
   "cell_type": "code",
   "execution_count": null,
   "metadata": {},
   "outputs": [],
   "source": [
    "# Your code here\n",
    "houses[\"area_m2\"] = ..."
   ]
  },
  {
   "cell_type": "markdown",
   "metadata": {},
   "source": [
    "**Task for you**: A bit more challenging exercise: select the top five cities by the total area of real estate sold. Show them order by the area, in descending order. I.e, the result should be a Pandas Series with five rows where the index contains city names and the value column contains total area sold in that city. Store result in variable `top_five_cities`.\n",
    "\n",
    "Hint: If you do the calculations correctly, the top #3 city should be Antelope with total area sold ~ 5262.86 m2."
   ]
  },
  {
   "cell_type": "code",
   "execution_count": null,
   "metadata": {},
   "outputs": [],
   "source": [
    "# Your code here\n",
    "top_five_cities = ..."
   ]
  },
  {
   "cell_type": "markdown",
   "metadata": {},
   "source": [
    "## Reflection"
   ]
  },
  {
   "cell_type": "markdown",
   "metadata": {},
   "source": [
    "Please reflect on the following questions:\n",
    "1. How did the assignment go? Was it easy or hard?\n",
    "2. How many hours did you spend on it?\n",
    "3. What was the most time-consuming part?\n",
    "4. If you need to do similar things later in your professional life, how can you improve? How can you do it more efficiently?\n",
    "5. Was there something you would expect to learn that this exercise did not include?\n",
    "6. Was there something that does not make sense?"
   ]
  },
  {
   "cell_type": "markdown",
   "metadata": {},
   "source": [
    "**Your answers here**"
   ]
  },
  {
   "cell_type": "markdown",
   "metadata": {},
   "source": [
    "## Hints"
   ]
  },
  {
   "cell_type": "markdown",
   "metadata": {},
   "source": [
    "The following Pandas functions may be handy\n",
    "* [read_csv in Pandas](https://pandas.pydata.org/pandas-docs/stable/generated/pandas.read_csv.html) may be useful. There are lots of possible parameters to the function. You probably need only the parameter specifying filename.\n",
    "* [DataFrame.head()](https://pandas.pydata.org/pandas-docs/stable/generated/pandas.DataFrame.head.html) and [DataFrame.tail()](https://pandas.pydata.org/pandas-docs/stable/generated/pandas.DataFrame.tail.html).\n",
    "* Series.mean(), .std() and .max() functions for statistics\n",
    "* [DataFrame.groupby()](https://pandas.pydata.org/pandas-docs/stable/groupby.html) for grouping rows together; [.sort_values()](https://pandas.pydata.org/pandas-docs/stable/generated/pandas.DataFrame.sort_values.html) for sorting the rows by calues in specific columns.\n",
    "\n",
    "A good [tutorial with a generic XML reading example](http://www.austintaylor.io/lxml/python/pandas/xml/dataframe/2016/07/08/convert-xml-to-pandas-dataframe/) is provided by Austin Taylor. \n",
    "\n",
    "It is quite common for programmers to not remember all the functions and all possible parameters. One skill that is important to master: ability to quickly find documentation and examples on the internet. Several tips:\n",
    "1. Try typing your question in Google. For example, if you wonder how to read a CSV file in this context, you can try to Google [\"python Pandas read CSV DataFrame\"](https://www.google.com/?q=python%20Pandas%20read%20CSV%20Dataframe) and with high chance one of the top 5 results will give you the answer. Just \"Read CSV\" will not be enough. You should mention the context. For the assignments of this course the context typically is \"Python Pandas\". \n",
    "2. [Stackoverflow](https://stackoverflow.com/) is one of the best resources for programming questions. It has a lot of different questions and answers. When you have a question, there is a 90% chance that someone has had exactly that question before and someone else has answered him/her. But typically it is enough to type the question in Google. All roads (i.e., programming questions) lead to StackOverflow anyway :).\n",
    "3. Check out the official documentation of the libraries that you are using. If you wonder about some DataFrame functions, find the DataFrame page in Pandas documentation. Hint: typically Google is smart enough to bring you to the documentation page. If you simply type [\"Pandas DataFrame\"](https://www.google.no/search?q=pandas+dataframe&oq=pandas+dataframe), the first result will typically be the documentation page. Official documentation is typically the page with the most detailed information on exactly the class or function that you need to explore. If you wonder about the possible function parameters, etc, see the docs."
   ]
  },
  {
   "cell_type": "code",
   "execution_count": null,
   "metadata": {},
   "outputs": [],
   "source": []
  }
 ],
 "metadata": {
  "kernelspec": {
   "display_name": "Python 3 (ipykernel)",
   "language": "python",
   "name": "python3"
  },
  "language_info": {
   "codemirror_mode": {
    "name": "ipython",
    "version": 3
   },
   "file_extension": ".py",
   "mimetype": "text/x-python",
   "name": "python",
   "nbconvert_exporter": "python",
   "pygments_lexer": "ipython3",
   "version": "3.10.6"
  }
 },
 "nbformat": 4,
 "nbformat_minor": 4
}
