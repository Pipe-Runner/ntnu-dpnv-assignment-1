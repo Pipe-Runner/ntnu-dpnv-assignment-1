{
 "cells": [
  {
   "cell_type": "markdown",
   "metadata": {},
   "source": [
    "# A. Setup\n",
    "In the following section, I'll do some initial housekeeping in order to make sure the kernel runs with the correct library versions and stays machine agnostic."
   ]
  },
  {
   "cell_type": "markdown",
   "metadata": {},
   "source": [
    "## A.1 Conda environment\n",
    "I use Conda for my kernels since it is a standard toolchain for data scientists and provides a good all in one solution for all types of common requirements."
   ]
  },
  {
   "cell_type": "code",
   "execution_count": 1,
   "metadata": {},
   "outputs": [
    {
     "name": "stdout",
     "output_type": "stream",
     "text": [
      "\n",
      "CondaValueError: prefix already exists: /Users/aakash_mallik/miniconda3/envs/ntnu-dpnv-assignment-1\n",
      "\n"
     ]
    }
   ],
   "source": [
    "import os\n",
    "\n",
    "try:\n",
    "    if bool(os.environ[\"DEEPNOTE\"]):\n",
    "        import sys\n",
    "        sys.path.append('/usr/local/lib/python3.9/site-packages/')\n",
    "        !sudo conda install -y pandas\n",
    "except KeyError:\n",
    "    !conda env create -f ../environment.yml && conda activate ntnu-dpnv-assignment-1"
   ]
  },
  {
   "cell_type": "code",
   "execution_count": 106,
   "metadata": {
    "cell_id": "7d9fa812-7fb8-4d23-8ef4-f082ec7ff64e",
    "deepnote_cell_height": 61,
    "deepnote_cell_type": "code",
    "tags": []
   },
   "outputs": [],
   "source": [
    "import pandas as pd\n",
    "import sqlite3\n",
    "from pathlib import Path"
   ]
  },
  {
   "cell_type": "markdown",
   "metadata": {},
   "source": [
    "## A.2 Global variables"
   ]
  },
  {
   "cell_type": "code",
   "execution_count": 107,
   "metadata": {},
   "outputs": [],
   "source": [
    "DATA_DIR = Path(\"../data/\")"
   ]
  },
  {
   "cell_type": "markdown",
   "metadata": {},
   "source": [
    "# B. Data\n",
    "In the following section I'll be loading and peeking into the data provided in the assignment."
   ]
  },
  {
   "cell_type": "markdown",
   "metadata": {},
   "source": [
    "## B.1 Reading\n",
    "I'll go ahead and read the following files to collect data:\n",
    "- real_estate.csv\n",
    "- colors.json\n",
    "- books.xml\n",
    "- chinook.sqlite3\n",
    "\n",
    "**Note:** We are not reading the entire database in case of SQLite3 data. Usually databases hold a huge amount of data and loading the entire data into a dataframe (which resides on RAM) is not a good idea."
   ]
  },
  {
   "cell_type": "code",
   "execution_count": 108,
   "metadata": {},
   "outputs": [],
   "source": [
    "# Reading CSV\n",
    "data_real_estate = pd.read_csv(DATA_DIR / \"real_estate.csv\")\n",
    "\n",
    "# Reading JSON\n",
    "data_colors = pd.read_json(DATA_DIR / \"colors.json\")\n",
    "\n",
    "# Reading XML\n",
    "data_books = pd.read_xml(DATA_DIR / \"books.xml\")\n",
    "\n",
    "# Reading SQLite3 (First 5 entires only)\n",
    "db_connection = sqlite3.connect(DATA_DIR / \"chinook.sqlite3\")\n",
    "query = 'SELECT firstname, lastname, address FROM customers LIMIT 5;'\n",
    "data_chinook = pd.read_sql_query(query, db_connection)"
   ]
  },
  {
   "cell_type": "markdown",
   "metadata": {},
   "source": [
    "## B.2 Peeking\n",
    "I'll peek into the data and display first 5 rows of each."
   ]
  },
  {
   "cell_type": "markdown",
   "metadata": {},
   "source": [
    "### a. Real Estate Data"
   ]
  },
  {
   "cell_type": "code",
   "execution_count": 109,
   "metadata": {},
   "outputs": [
    {
     "data": {
      "text/html": [
       "<div>\n",
       "<style scoped>\n",
       "    .dataframe tbody tr th:only-of-type {\n",
       "        vertical-align: middle;\n",
       "    }\n",
       "\n",
       "    .dataframe tbody tr th {\n",
       "        vertical-align: top;\n",
       "    }\n",
       "\n",
       "    .dataframe thead th {\n",
       "        text-align: right;\n",
       "    }\n",
       "</style>\n",
       "<table border=\"1\" class=\"dataframe\">\n",
       "  <thead>\n",
       "    <tr style=\"text-align: right;\">\n",
       "      <th></th>\n",
       "      <th>street</th>\n",
       "      <th>city</th>\n",
       "      <th>zip</th>\n",
       "      <th>state</th>\n",
       "      <th>beds</th>\n",
       "      <th>baths</th>\n",
       "      <th>sq__ft</th>\n",
       "      <th>type</th>\n",
       "      <th>sale_date</th>\n",
       "      <th>price</th>\n",
       "      <th>latitude</th>\n",
       "      <th>longitude</th>\n",
       "    </tr>\n",
       "  </thead>\n",
       "  <tbody>\n",
       "    <tr>\n",
       "      <th>0</th>\n",
       "      <td>3526 HIGH ST</td>\n",
       "      <td>SACRAMENTO</td>\n",
       "      <td>95838</td>\n",
       "      <td>CA</td>\n",
       "      <td>2</td>\n",
       "      <td>1</td>\n",
       "      <td>836</td>\n",
       "      <td>Residential</td>\n",
       "      <td>Wed May 21 00:00:00 EDT 2008</td>\n",
       "      <td>59222</td>\n",
       "      <td>38.631913</td>\n",
       "      <td>-121.434879</td>\n",
       "    </tr>\n",
       "    <tr>\n",
       "      <th>1</th>\n",
       "      <td>51 OMAHA CT</td>\n",
       "      <td>SACRAMENTO</td>\n",
       "      <td>95823</td>\n",
       "      <td>CA</td>\n",
       "      <td>3</td>\n",
       "      <td>1</td>\n",
       "      <td>1167</td>\n",
       "      <td>Residential</td>\n",
       "      <td>Wed May 21 00:00:00 EDT 2008</td>\n",
       "      <td>68212</td>\n",
       "      <td>38.478902</td>\n",
       "      <td>-121.431028</td>\n",
       "    </tr>\n",
       "    <tr>\n",
       "      <th>2</th>\n",
       "      <td>2796 BRANCH ST</td>\n",
       "      <td>SACRAMENTO</td>\n",
       "      <td>95815</td>\n",
       "      <td>CA</td>\n",
       "      <td>2</td>\n",
       "      <td>1</td>\n",
       "      <td>796</td>\n",
       "      <td>Residential</td>\n",
       "      <td>Wed May 21 00:00:00 EDT 2008</td>\n",
       "      <td>68880</td>\n",
       "      <td>38.618305</td>\n",
       "      <td>-121.443839</td>\n",
       "    </tr>\n",
       "    <tr>\n",
       "      <th>3</th>\n",
       "      <td>2805 JANETTE WAY</td>\n",
       "      <td>SACRAMENTO</td>\n",
       "      <td>95815</td>\n",
       "      <td>CA</td>\n",
       "      <td>2</td>\n",
       "      <td>1</td>\n",
       "      <td>852</td>\n",
       "      <td>Residential</td>\n",
       "      <td>Wed May 21 00:00:00 EDT 2008</td>\n",
       "      <td>69307</td>\n",
       "      <td>38.616835</td>\n",
       "      <td>-121.439146</td>\n",
       "    </tr>\n",
       "    <tr>\n",
       "      <th>4</th>\n",
       "      <td>6001 MCMAHON DR</td>\n",
       "      <td>SACRAMENTO</td>\n",
       "      <td>95824</td>\n",
       "      <td>CA</td>\n",
       "      <td>2</td>\n",
       "      <td>1</td>\n",
       "      <td>797</td>\n",
       "      <td>Residential</td>\n",
       "      <td>Wed May 21 00:00:00 EDT 2008</td>\n",
       "      <td>81900</td>\n",
       "      <td>38.519470</td>\n",
       "      <td>-121.435768</td>\n",
       "    </tr>\n",
       "  </tbody>\n",
       "</table>\n",
       "</div>"
      ],
      "text/plain": [
       "             street        city    zip state  beds  baths  sq__ft  \\\n",
       "0      3526 HIGH ST  SACRAMENTO  95838    CA     2      1     836   \n",
       "1       51 OMAHA CT  SACRAMENTO  95823    CA     3      1    1167   \n",
       "2    2796 BRANCH ST  SACRAMENTO  95815    CA     2      1     796   \n",
       "3  2805 JANETTE WAY  SACRAMENTO  95815    CA     2      1     852   \n",
       "4   6001 MCMAHON DR  SACRAMENTO  95824    CA     2      1     797   \n",
       "\n",
       "          type                     sale_date  price   latitude   longitude  \n",
       "0  Residential  Wed May 21 00:00:00 EDT 2008  59222  38.631913 -121.434879  \n",
       "1  Residential  Wed May 21 00:00:00 EDT 2008  68212  38.478902 -121.431028  \n",
       "2  Residential  Wed May 21 00:00:00 EDT 2008  68880  38.618305 -121.443839  \n",
       "3  Residential  Wed May 21 00:00:00 EDT 2008  69307  38.616835 -121.439146  \n",
       "4  Residential  Wed May 21 00:00:00 EDT 2008  81900  38.519470 -121.435768  "
      ]
     },
     "execution_count": 109,
     "metadata": {},
     "output_type": "execute_result"
    }
   ],
   "source": [
    "data_real_estate.head(5)"
   ]
  },
  {
   "cell_type": "markdown",
   "metadata": {},
   "source": [
    "### b. Colors data"
   ]
  },
  {
   "cell_type": "code",
   "execution_count": 110,
   "metadata": {},
   "outputs": [
    {
     "data": {
      "text/html": [
       "<div>\n",
       "<style scoped>\n",
       "    .dataframe tbody tr th:only-of-type {\n",
       "        vertical-align: middle;\n",
       "    }\n",
       "\n",
       "    .dataframe tbody tr th {\n",
       "        vertical-align: top;\n",
       "    }\n",
       "\n",
       "    .dataframe thead th {\n",
       "        text-align: right;\n",
       "    }\n",
       "</style>\n",
       "<table border=\"1\" class=\"dataframe\">\n",
       "  <thead>\n",
       "    <tr style=\"text-align: right;\">\n",
       "      <th></th>\n",
       "      <th>color</th>\n",
       "      <th>value</th>\n",
       "    </tr>\n",
       "  </thead>\n",
       "  <tbody>\n",
       "    <tr>\n",
       "      <th>0</th>\n",
       "      <td>red</td>\n",
       "      <td>#f00</td>\n",
       "    </tr>\n",
       "    <tr>\n",
       "      <th>1</th>\n",
       "      <td>green</td>\n",
       "      <td>#0f0</td>\n",
       "    </tr>\n",
       "    <tr>\n",
       "      <th>2</th>\n",
       "      <td>blue</td>\n",
       "      <td>#00f</td>\n",
       "    </tr>\n",
       "    <tr>\n",
       "      <th>3</th>\n",
       "      <td>cyan</td>\n",
       "      <td>#0ff</td>\n",
       "    </tr>\n",
       "    <tr>\n",
       "      <th>4</th>\n",
       "      <td>magenta</td>\n",
       "      <td>#f0f</td>\n",
       "    </tr>\n",
       "  </tbody>\n",
       "</table>\n",
       "</div>"
      ],
      "text/plain": [
       "     color value\n",
       "0      red  #f00\n",
       "1    green  #0f0\n",
       "2     blue  #00f\n",
       "3     cyan  #0ff\n",
       "4  magenta  #f0f"
      ]
     },
     "execution_count": 110,
     "metadata": {},
     "output_type": "execute_result"
    }
   ],
   "source": [
    "data_colors.head(5)"
   ]
  },
  {
   "cell_type": "markdown",
   "metadata": {},
   "source": [
    "### c. Books data"
   ]
  },
  {
   "cell_type": "code",
   "execution_count": 111,
   "metadata": {},
   "outputs": [
    {
     "data": {
      "text/html": [
       "<div>\n",
       "<style scoped>\n",
       "    .dataframe tbody tr th:only-of-type {\n",
       "        vertical-align: middle;\n",
       "    }\n",
       "\n",
       "    .dataframe tbody tr th {\n",
       "        vertical-align: top;\n",
       "    }\n",
       "\n",
       "    .dataframe thead th {\n",
       "        text-align: right;\n",
       "    }\n",
       "</style>\n",
       "<table border=\"1\" class=\"dataframe\">\n",
       "  <thead>\n",
       "    <tr style=\"text-align: right;\">\n",
       "      <th></th>\n",
       "      <th>id</th>\n",
       "      <th>author</th>\n",
       "      <th>title</th>\n",
       "      <th>genre</th>\n",
       "      <th>price</th>\n",
       "      <th>publish_date</th>\n",
       "      <th>description</th>\n",
       "    </tr>\n",
       "  </thead>\n",
       "  <tbody>\n",
       "    <tr>\n",
       "      <th>0</th>\n",
       "      <td>bk101</td>\n",
       "      <td>Gambardella, Matthew</td>\n",
       "      <td>XML Developer's Guide</td>\n",
       "      <td>Computer</td>\n",
       "      <td>44.95</td>\n",
       "      <td>2000-10-01</td>\n",
       "      <td>An in-depth look at creating applications \\n  ...</td>\n",
       "    </tr>\n",
       "    <tr>\n",
       "      <th>1</th>\n",
       "      <td>bk102</td>\n",
       "      <td>Ralls, Kim</td>\n",
       "      <td>Midnight Rain</td>\n",
       "      <td>Fantasy</td>\n",
       "      <td>5.95</td>\n",
       "      <td>2000-12-16</td>\n",
       "      <td>A former architect battles corporate zombies, ...</td>\n",
       "    </tr>\n",
       "    <tr>\n",
       "      <th>2</th>\n",
       "      <td>bk103</td>\n",
       "      <td>Corets, Eva</td>\n",
       "      <td>Maeve Ascendant</td>\n",
       "      <td>Fantasy</td>\n",
       "      <td>5.95</td>\n",
       "      <td>2000-11-17</td>\n",
       "      <td>After the collapse of a nanotechnology \\n     ...</td>\n",
       "    </tr>\n",
       "    <tr>\n",
       "      <th>3</th>\n",
       "      <td>bk104</td>\n",
       "      <td>Corets, Eva</td>\n",
       "      <td>Oberon's Legacy</td>\n",
       "      <td>Fantasy</td>\n",
       "      <td>5.95</td>\n",
       "      <td>2001-03-10</td>\n",
       "      <td>In post-apocalypse England, the mysterious \\n ...</td>\n",
       "    </tr>\n",
       "    <tr>\n",
       "      <th>4</th>\n",
       "      <td>bk105</td>\n",
       "      <td>Corets, Eva</td>\n",
       "      <td>The Sundered Grail</td>\n",
       "      <td>Fantasy</td>\n",
       "      <td>5.95</td>\n",
       "      <td>2001-09-10</td>\n",
       "      <td>The two daughters of Maeve, half-sisters, \\n  ...</td>\n",
       "    </tr>\n",
       "  </tbody>\n",
       "</table>\n",
       "</div>"
      ],
      "text/plain": [
       "      id                author                  title     genre  price  \\\n",
       "0  bk101  Gambardella, Matthew  XML Developer's Guide  Computer  44.95   \n",
       "1  bk102            Ralls, Kim          Midnight Rain   Fantasy   5.95   \n",
       "2  bk103           Corets, Eva        Maeve Ascendant   Fantasy   5.95   \n",
       "3  bk104           Corets, Eva        Oberon's Legacy   Fantasy   5.95   \n",
       "4  bk105           Corets, Eva     The Sundered Grail   Fantasy   5.95   \n",
       "\n",
       "  publish_date                                        description  \n",
       "0   2000-10-01  An in-depth look at creating applications \\n  ...  \n",
       "1   2000-12-16  A former architect battles corporate zombies, ...  \n",
       "2   2000-11-17  After the collapse of a nanotechnology \\n     ...  \n",
       "3   2001-03-10  In post-apocalypse England, the mysterious \\n ...  \n",
       "4   2001-09-10  The two daughters of Maeve, half-sisters, \\n  ...  "
      ]
     },
     "execution_count": 111,
     "metadata": {},
     "output_type": "execute_result"
    }
   ],
   "source": [
    "data_books.head(5)"
   ]
  },
  {
   "cell_type": "markdown",
   "metadata": {},
   "source": [
    "### d. Chinook data\n",
    "Since we only extracted 5 entries from the DB, we don't need `head` in this case and can display the entire dataframe."
   ]
  },
  {
   "cell_type": "code",
   "execution_count": 112,
   "metadata": {},
   "outputs": [
    {
     "data": {
      "text/html": [
       "<div>\n",
       "<style scoped>\n",
       "    .dataframe tbody tr th:only-of-type {\n",
       "        vertical-align: middle;\n",
       "    }\n",
       "\n",
       "    .dataframe tbody tr th {\n",
       "        vertical-align: top;\n",
       "    }\n",
       "\n",
       "    .dataframe thead th {\n",
       "        text-align: right;\n",
       "    }\n",
       "</style>\n",
       "<table border=\"1\" class=\"dataframe\">\n",
       "  <thead>\n",
       "    <tr style=\"text-align: right;\">\n",
       "      <th></th>\n",
       "      <th>FirstName</th>\n",
       "      <th>LastName</th>\n",
       "      <th>Address</th>\n",
       "    </tr>\n",
       "  </thead>\n",
       "  <tbody>\n",
       "    <tr>\n",
       "      <th>0</th>\n",
       "      <td>Luís</td>\n",
       "      <td>Gonçalves</td>\n",
       "      <td>Av. Brigadeiro Faria Lima, 2170</td>\n",
       "    </tr>\n",
       "    <tr>\n",
       "      <th>1</th>\n",
       "      <td>Leonie</td>\n",
       "      <td>Köhler</td>\n",
       "      <td>Theodor-Heuss-Straße 34</td>\n",
       "    </tr>\n",
       "    <tr>\n",
       "      <th>2</th>\n",
       "      <td>François</td>\n",
       "      <td>Tremblay</td>\n",
       "      <td>1498 rue Bélanger</td>\n",
       "    </tr>\n",
       "    <tr>\n",
       "      <th>3</th>\n",
       "      <td>Bjørn</td>\n",
       "      <td>Hansen</td>\n",
       "      <td>Ullevålsveien 14</td>\n",
       "    </tr>\n",
       "    <tr>\n",
       "      <th>4</th>\n",
       "      <td>František</td>\n",
       "      <td>Wichterlová</td>\n",
       "      <td>Klanova 9/506</td>\n",
       "    </tr>\n",
       "  </tbody>\n",
       "</table>\n",
       "</div>"
      ],
      "text/plain": [
       "   FirstName     LastName                          Address\n",
       "0       Luís    Gonçalves  Av. Brigadeiro Faria Lima, 2170\n",
       "1     Leonie       Köhler          Theodor-Heuss-Straße 34\n",
       "2   François     Tremblay                1498 rue Bélanger\n",
       "3      Bjørn       Hansen                 Ullevålsveien 14\n",
       "4  František  Wichterlová                    Klanova 9/506"
      ]
     },
     "execution_count": 112,
     "metadata": {},
     "output_type": "execute_result"
    }
   ],
   "source": [
    "data_chinook"
   ]
  },
  {
   "cell_type": "markdown",
   "metadata": {},
   "source": [
    "# C. Data exploration\n",
    "In the following section, we'll inspect the data further to gain some insights on what we are dealing with. As stated in the assignment, we'll focus only on the `house` data - `data_real_estate`."
   ]
  },
  {
   "cell_type": "markdown",
   "metadata": {},
   "source": [
    "## C.1 Number of rows"
   ]
  },
  {
   "cell_type": "code",
   "execution_count": 113,
   "metadata": {},
   "outputs": [
    {
     "name": "stdout",
     "output_type": "stream",
     "text": [
      "Number of rows in the CSV file: 985\n"
     ]
    }
   ],
   "source": [
    "num_rows = data_real_estate.shape[0]\n",
    "print(f\"Number of rows in the CSV file: {num_rows}\")"
   ]
  },
  {
   "cell_type": "markdown",
   "metadata": {},
   "source": [
    "## C.2 Prices"
   ]
  },
  {
   "cell_type": "code",
   "execution_count": 114,
   "metadata": {},
   "outputs": [],
   "source": [
    "prices = data_real_estate['price']"
   ]
  },
  {
   "cell_type": "markdown",
   "metadata": {},
   "source": [
    "We'll go ahead and run some assertions to make sure our steps are correct."
   ]
  },
  {
   "cell_type": "code",
   "execution_count": 115,
   "metadata": {},
   "outputs": [],
   "source": [
    "# Check if prices is indeed an instance of the Series class from pandas\n",
    "assert type(prices) == pd.core.series.Series\n",
    "\n",
    "# Check if we have exactly 985 items in the series\n",
    "assert len(prices) == 985\n",
    "\n",
    "# Verify if the 10th item in the series matches with the content of the CSV\n",
    "assert prices[9] == 98937"
   ]
  },
  {
   "cell_type": "markdown",
   "metadata": {},
   "source": [
    "## C.3 Basic statistics"
   ]
  },
  {
   "cell_type": "code",
   "execution_count": 116,
   "metadata": {},
   "outputs": [
    {
     "name": "stdout",
     "output_type": "stream",
     "text": [
      "Mean of prices: 234144.263959\n",
      "Standard deviation of prices: 138365.839085\n"
     ]
    }
   ],
   "source": [
    "prices_mean = prices.mean()\n",
    "prices_sd = prices.std()\n",
    "\n",
    "print(\n",
    "    f'Mean of prices: {price_mean:.6f}\\nStandard deviation of prices: {prices_sd:.6f}')"
   ]
  },
  {
   "cell_type": "code",
   "execution_count": 117,
   "metadata": {},
   "outputs": [
    {
     "data": {
      "text/plain": [
       "count       985.000000\n",
       "mean     234144.263959\n",
       "std      138365.839085\n",
       "min        1551.000000\n",
       "25%      145000.000000\n",
       "50%      213750.000000\n",
       "75%      300000.000000\n",
       "max      884790.000000\n",
       "Name: price, dtype: float64"
      ]
     },
     "execution_count": 117,
     "metadata": {},
     "output_type": "execute_result"
    }
   ],
   "source": [
    "prices.describe()"
   ]
  },
  {
   "cell_type": "markdown",
   "metadata": {},
   "source": [
    "We make sure our mean calculation is correct by writing a small asssertion. Since floating point number comapration is usually unpredictable and unreliable due to rounding errors, our assertion will check for the closest integer."
   ]
  },
  {
   "cell_type": "code",
   "execution_count": 118,
   "metadata": {},
   "outputs": [],
   "source": [
    "assert round(prices_mean) == 234144\n",
    "assert round(prices_sd) == 138366"
   ]
  },
  {
   "cell_type": "markdown",
   "metadata": {},
   "source": [
    "## C.4 Filter\n",
    "We will find:\n",
    "- max price in the entire data set\n",
    "- find the most expensive house\n",
    "- find how many square feet it has and store it in a variable"
   ]
  },
  {
   "cell_type": "code",
   "execution_count": 119,
   "metadata": {},
   "outputs": [
    {
     "name": "stdout",
     "output_type": "stream",
     "text": [
      "The most expensive area: 4400 square feet\n"
     ]
    }
   ],
   "source": [
    "max_price = prices.max()\n",
    "max_price_house = data_real_estate[data_real_estate['price'] == max_price]\n",
    "\n",
    "# Since there can be more than one house with the max_price, \n",
    "# we'll assert and confirm that our filter only returned one\n",
    "assert max_price_house.shape[0] == 1, \"More than one value found\"\n",
    "\n",
    "most_expensive_area = max_price_houses.iloc[0]['sq__ft']\n",
    "\n",
    "print(f\"The most expensive area: {most_expensive_area} square feet\")"
   ]
  },
  {
   "cell_type": "markdown",
   "metadata": {},
   "source": [
    "Checking for correctness"
   ]
  },
  {
   "cell_type": "code",
   "execution_count": 120,
   "metadata": {},
   "outputs": [],
   "source": [
    "assert most_expensive_area == 4400"
   ]
  },
  {
   "cell_type": "markdown",
   "metadata": {},
   "source": [
    "## C.5 Column Manipulation"
   ]
  },
  {
   "cell_type": "code",
   "execution_count": 121,
   "metadata": {},
   "outputs": [],
   "source": [
    "data_real_estate['sqft_price'] = data_real_estate['price'] / data_real_estate['sq__ft']\n",
    "cheapest_house = data_real_estate[\n",
    "    data_real_estate['sqft_price'] == data_real_estate['sqft_price'].min()\n",
    "]"
   ]
  },
  {
   "cell_type": "markdown",
   "metadata": {},
   "source": [
    "Checking for correctness"
   ]
  },
  {
   "cell_type": "code",
   "execution_count": 122,
   "metadata": {},
   "outputs": [],
   "source": [
    "assert type(cheapest_house) == pd.core.frame.DataFrame\n",
    "assert len(cheapest_house) == 1\n",
    "assert cheapest_house[\"price\"].item() == 2000 \n",
    "assert cheapest_house[\"sq__ft\"].item() == 5822"
   ]
  },
  {
   "cell_type": "markdown",
   "metadata": {},
   "source": [
    "## C.6 Unique Values \n",
    "We will now find out number of multi-family houses that had less than 3 bathroom."
   ]
  },
  {
   "cell_type": "code",
   "execution_count": 123,
   "metadata": {},
   "outputs": [
    {
     "data": {
      "text/plain": [
       "array(['Residential', 'Condo', 'Multi-Family', 'Unkown'], dtype=object)"
      ]
     },
     "execution_count": 123,
     "metadata": {},
     "output_type": "execute_result"
    }
   ],
   "source": [
    "data_real_estate[\"type\"].unique()"
   ]
  },
  {
   "cell_type": "markdown",
   "metadata": {},
   "source": [
    "As we can see, one of the types is `Multi-Family`, so we will use it in our filter."
   ]
  },
  {
   "cell_type": "code",
   "execution_count": 124,
   "metadata": {},
   "outputs": [],
   "source": [
    "few_br_multif = data_real_estate[\n",
    "    (data_real_estate[\"type\"] == 'Multi-Family') &\n",
    "    (data_real_estate[\"baths\"] < 3)\n",
    "]\n",
    "num_few_br_multif = few_br_multif.shape[0]"
   ]
  },
  {
   "cell_type": "markdown",
   "metadata": {},
   "source": [
    "## C.5 Column conversions\n",
    "Now we'll convert an entire column and create a new one, finally adding it to our original dataframe.\n",
    "\n",
    "**Note:** 1 foot = 0.3048 meters"
   ]
  },
  {
   "cell_type": "code",
   "execution_count": 125,
   "metadata": {},
   "outputs": [
    {
     "data": {
      "text/html": [
       "<div>\n",
       "<style scoped>\n",
       "    .dataframe tbody tr th:only-of-type {\n",
       "        vertical-align: middle;\n",
       "    }\n",
       "\n",
       "    .dataframe tbody tr th {\n",
       "        vertical-align: top;\n",
       "    }\n",
       "\n",
       "    .dataframe thead th {\n",
       "        text-align: right;\n",
       "    }\n",
       "</style>\n",
       "<table border=\"1\" class=\"dataframe\">\n",
       "  <thead>\n",
       "    <tr style=\"text-align: right;\">\n",
       "      <th></th>\n",
       "      <th>street</th>\n",
       "      <th>city</th>\n",
       "      <th>zip</th>\n",
       "      <th>state</th>\n",
       "      <th>beds</th>\n",
       "      <th>baths</th>\n",
       "      <th>sq__ft</th>\n",
       "      <th>type</th>\n",
       "      <th>sale_date</th>\n",
       "      <th>price</th>\n",
       "      <th>latitude</th>\n",
       "      <th>longitude</th>\n",
       "      <th>sqft_price</th>\n",
       "      <th>area_m2</th>\n",
       "    </tr>\n",
       "  </thead>\n",
       "  <tbody>\n",
       "    <tr>\n",
       "      <th>0</th>\n",
       "      <td>3526 HIGH ST</td>\n",
       "      <td>SACRAMENTO</td>\n",
       "      <td>95838</td>\n",
       "      <td>CA</td>\n",
       "      <td>2</td>\n",
       "      <td>1</td>\n",
       "      <td>836</td>\n",
       "      <td>Residential</td>\n",
       "      <td>Wed May 21 00:00:00 EDT 2008</td>\n",
       "      <td>59222</td>\n",
       "      <td>38.631913</td>\n",
       "      <td>-121.434879</td>\n",
       "      <td>70.839713</td>\n",
       "      <td>77.666941</td>\n",
       "    </tr>\n",
       "    <tr>\n",
       "      <th>1</th>\n",
       "      <td>51 OMAHA CT</td>\n",
       "      <td>SACRAMENTO</td>\n",
       "      <td>95823</td>\n",
       "      <td>CA</td>\n",
       "      <td>3</td>\n",
       "      <td>1</td>\n",
       "      <td>1167</td>\n",
       "      <td>Residential</td>\n",
       "      <td>Wed May 21 00:00:00 EDT 2008</td>\n",
       "      <td>68212</td>\n",
       "      <td>38.478902</td>\n",
       "      <td>-121.431028</td>\n",
       "      <td>58.450728</td>\n",
       "      <td>108.417848</td>\n",
       "    </tr>\n",
       "    <tr>\n",
       "      <th>2</th>\n",
       "      <td>2796 BRANCH ST</td>\n",
       "      <td>SACRAMENTO</td>\n",
       "      <td>95815</td>\n",
       "      <td>CA</td>\n",
       "      <td>2</td>\n",
       "      <td>1</td>\n",
       "      <td>796</td>\n",
       "      <td>Residential</td>\n",
       "      <td>Wed May 21 00:00:00 EDT 2008</td>\n",
       "      <td>68880</td>\n",
       "      <td>38.618305</td>\n",
       "      <td>-121.443839</td>\n",
       "      <td>86.532663</td>\n",
       "      <td>73.950820</td>\n",
       "    </tr>\n",
       "  </tbody>\n",
       "</table>\n",
       "</div>"
      ],
      "text/plain": [
       "           street        city    zip state  beds  baths  sq__ft         type  \\\n",
       "0    3526 HIGH ST  SACRAMENTO  95838    CA     2      1     836  Residential   \n",
       "1     51 OMAHA CT  SACRAMENTO  95823    CA     3      1    1167  Residential   \n",
       "2  2796 BRANCH ST  SACRAMENTO  95815    CA     2      1     796  Residential   \n",
       "\n",
       "                      sale_date  price   latitude   longitude  sqft_price  \\\n",
       "0  Wed May 21 00:00:00 EDT 2008  59222  38.631913 -121.434879   70.839713   \n",
       "1  Wed May 21 00:00:00 EDT 2008  68212  38.478902 -121.431028   58.450728   \n",
       "2  Wed May 21 00:00:00 EDT 2008  68880  38.618305 -121.443839   86.532663   \n",
       "\n",
       "      area_m2  \n",
       "0   77.666941  \n",
       "1  108.417848  \n",
       "2   73.950820  "
      ]
     },
     "execution_count": 125,
     "metadata": {},
     "output_type": "execute_result"
    }
   ],
   "source": [
    "data_real_estate['area_m2'] = data_real_estate['sq__ft'] * (0.3048 ** 2)\n",
    "\n",
    "data_real_estate.head(3)"
   ]
  },
  {
   "cell_type": "markdown",
   "metadata": {},
   "source": [
    "## C.7 Grouping\n",
    "For our final task, we will group cities and sum up the areas of the houses in each of them, giving us the total area sold per city. We'll finally sort them.\n",
    "\n",
    "**Note:** The squeeze at the end is important since without it, we would endup with a Dataframe, but the question asks for a series."
   ]
  },
  {
   "cell_type": "code",
   "execution_count": 178,
   "metadata": {},
   "outputs": [
    {
     "data": {
      "text/plain": [
       "city\n",
       "SACRAMENTO         56864.092723\n",
       "ELK GROVE          19579.780195\n",
       "ANTELOPE            5262.864313\n",
       "ROSEVILLE           4587.273406\n",
       "CITRUS HEIGHTS      4255.330844\n",
       "RANCHO CORDOVA      3543.136140\n",
       "FOLSOM              3077.227394\n",
       "GALT                3045.175845\n",
       "CARMICHAEL          2885.754228\n",
       "NORTH HIGHLANDS     2244.258737\n",
       "ORANGEVALE          1683.495988\n",
       "FAIR OAKS           1387.785612\n",
       "ROCKLIN             1387.692708\n",
       "RIO LINDA           1354.061808\n",
       "WILTON              1304.265779\n",
       "LINCOLN              895.492403\n",
       "GRANITE BAY          828.880923\n",
       "PLACERVILLE          792.091319\n",
       "GOLD RIVER           607.400076\n",
       "RANCHO MURIETA       550.543415\n",
       "SLOUGHHOUSE          540.881499\n",
       "EL DORADO HILLS      498.796422\n",
       "ELVERTA              461.356497\n",
       "AUBURN               417.413359\n",
       "POLLOCK PINES        370.125711\n",
       "LOOMIS               274.249774\n",
       "GREENWOOD            264.402052\n",
       "EL DORADO            247.493699\n",
       "MATHER               194.446063\n",
       "CAMERON PARK         187.292529\n",
       "WALNUT GROVE         160.443550\n",
       "COOL                 135.359729\n",
       "PENRYN               122.632013\n",
       "DIAMOND SPRINGS      120.773952\n",
       "MEADOW VISTA         112.970097\n",
       "WEST SACRAMENTO       82.126287\n",
       "FORESTHILL             0.000000\n",
       "SHINGLE SPRINGS        0.000000\n",
       "GARDEN VALLEY          0.000000\n",
       "Name: total_area_sold, dtype: float64"
      ]
     },
     "execution_count": 178,
     "metadata": {},
     "output_type": "execute_result"
    }
   ],
   "source": [
    "sorted_grouped_city_area = data_real_estate.groupby('city').aggregate(\n",
    "    total_area_sold=('area_m2', 'sum')\n",
    ").sort_values(\n",
    "    by=['total_area_sold'], \n",
    "    ascending=False\n",
    ").squeeze()\n",
    "\n",
    "sorted_grouped_city_area"
   ]
  },
  {
   "cell_type": "markdown",
   "metadata": {},
   "source": [
    "top_five_cities = sorted_grouped_city_area[0:5].squeeze()\n",
    "top_five_cities"
   ]
  },
  {
   "cell_type": "markdown",
   "metadata": {},
   "source": [
    "Checking for correctness"
   ]
  },
  {
   "cell_type": "code",
   "execution_count": 191,
   "metadata": {},
   "outputs": [],
   "source": [
    "assert type(sorted_grouped_city_area) == pd.core.series.Series\n",
    "assert type(top_five_cities) == pd.core.series.Series\n",
    "assert round(top_five_cities['ANTELOPE']) == 5263\n",
    "assert sorted_grouped_city_area.nlargest(3).index[2] == 'ANTELOPE'"
   ]
  },
  {
   "cell_type": "markdown",
   "metadata": {},
   "source": [
    "***\n",
    "\n",
    "# D. Reflection"
   ]
  },
  {
   "cell_type": "markdown",
   "metadata": {},
   "source": [
    "#### Q.1 How did the assignment go? Was it easy or hard?\n",
    "**A.** It was great - A good warmup. It was easy for me since I have some experience with data wrangling.\n",
    "\n",
    "\n",
    "#### Q.2 How many hours did you spend on it?\n",
    "**A.** One and a half hours. Half an our more just to recheck my code.\n",
    "\n",
    "\n",
    "#### Q.3 What was the most time-consuming part?\n",
    "**A.** The last question took me a little bit more time than the others since it was the toughest to solve.\n",
    "\n",
    "\n",
    "#### Q.4 If you need to do similar things later in your professional life, how can you improve? How can you do it more efficiently?\n",
    "**A.** Since a programmer is not supposed to remember all the APIs and functions he uses, it is a good idea to note hints and function calls somewhere so that it is easier to find them next time if a similar problem comes up. Also in my experience, it is really very important to keep ones code repositories accesible. My old code serves as a great reference and I can easily recreate and redo things quickly if I have already done them before.\n",
    "\n",
    "\n",
    "#### Q.5 Was there something you would expect to learn that this exercise did not include?\n",
    "**A.** No, I think everything was as expected and I am looking forward to learn more from the upcoming exercises.\n",
    "\n",
    "\n",
    "#### Q.6 Was there something that does not make sense?\n",
    "**A.** Some of the entries don't have realistic data, for example some of the houses have 0 bedrooms, and 0 sq feet area. This was slightly unexpected but I think this is how raw data will be presented to us in real life too, so its a good learning experience."
   ]
  },
  {
   "cell_type": "code",
   "execution_count": null,
   "metadata": {},
   "outputs": [],
   "source": []
  }
 ],
 "metadata": {
  "deepnote": {},
  "deepnote_execution_queue": [],
  "deepnote_notebook_id": "8934f1c4-2ba7-416d-a913-00002854254a",
  "kernelspec": {
   "display_name": "Python 3 (ipykernel)",
   "language": "python",
   "name": "python3"
  },
  "language_info": {
   "codemirror_mode": {
    "name": "ipython",
    "version": 3
   },
   "file_extension": ".py",
   "mimetype": "text/x-python",
   "name": "python",
   "nbconvert_exporter": "python",
   "pygments_lexer": "ipython3",
   "version": "3.10.6"
  }
 },
 "nbformat": 4,
 "nbformat_minor": 4
}
